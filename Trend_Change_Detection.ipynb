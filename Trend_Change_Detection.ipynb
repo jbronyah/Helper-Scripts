{
 "cells": [
  {
   "cell_type": "code",
   "execution_count": null,
   "metadata": {},
   "outputs": [],
   "source": [
    "# uncommment below line to install ruptures if not already installed\n",
    "\n",
    "# !python -m pip install ruptures"
   ]
  },
  {
   "cell_type": "code",
   "execution_count": null,
   "metadata": {},
   "outputs": [],
   "source": [
    "import pandas as pd\n",
    "import matplotlib.pyplot as plt\n",
    "import ruptures as rpt\n",
    "from scipy.stats import zscore, linregress, iqr\n",
    "import numpy as np\n",
    "import xlsxwriter\n",
    "import os\n",
    "from datetime import datetime"
   ]
  },
  {
   "cell_type": "markdown",
   "metadata": {},
   "source": [
    "# Please enter the below details"
   ]
  },
  {
   "cell_type": "code",
   "execution_count": null,
   "metadata": {},
   "outputs": [],
   "source": [
    "penalty = 3 # higher means less cells\n",
    "chg_thd = 0.0\n",
    "dim = 'Whole Network' # dimension you are interested in\n",
    "date = 'Date'     # date variable\n",
    "source_file_path = \"C:\\\\Users\\\\BronyahJ\\\\Downloads\\\\\" # where your source data is located\n",
    "file_name = \"4G_ALL_KPIs_Query_Result_20230213092527290.xlsx\" # source filename"
   ]
  },
  {
   "cell_type": "markdown",
   "metadata": {},
   "source": [
    "# Specify columns you want to delete in the to_delete list"
   ]
  },
  {
   "cell_type": "code",
   "execution_count": null,
   "metadata": {},
   "outputs": [],
   "source": [
    "REMOVE_NA = True\n",
    "to_delete = ['LocalCell Id','Integrity', 'Cell ID', 'Cell CI', 'CellIndex','NR Cell ID']\n",
    "KNOWN_NA_VALS = ['NIL', 'NILL', 'NULL', 'NA', '#NA', '#N/A', 'N/A','#VALUE!','#REF!','#DIV/0!','#NUM!','#NAME?','#NULL!','NAN','nan','NaN']"
   ]
  },
  {
   "cell_type": "code",
   "execution_count": null,
   "metadata": {},
   "outputs": [],
   "source": [
    "df = pd.read_excel(source_file_path+file_name,sheet_name=0)\n",
    "for i in np.arange(1,100):\n",
    "    try:\n",
    "        df1 = pd.read_excel(source_file_path+file_name,sheet_name=i)\n",
    "        df = pd.concat([df,df1],axis=1)\n",
    "        \n",
    "    except IndexError as ie:\n",
    "        break\n",
    "    \n",
    "    except ValueError as ve:\n",
    "        break\n",
    "    "
   ]
  },
  {
   "cell_type": "code",
   "execution_count": null,
   "metadata": {},
   "outputs": [],
   "source": [
    "df.head()"
   ]
  },
  {
   "cell_type": "code",
   "execution_count": null,
   "metadata": {},
   "outputs": [],
   "source": [
    "df.shape"
   ]
  },
  {
   "cell_type": "code",
   "execution_count": null,
   "metadata": {},
   "outputs": [],
   "source": [
    "if len(to_delete) > 0:\n",
    "    df = df.drop([x for x in to_delete if x in df.columns], axis=1)"
   ]
  },
  {
   "cell_type": "code",
   "execution_count": null,
   "metadata": {},
   "outputs": [],
   "source": [
    "df=df.T.drop_duplicates().T"
   ]
  },
  {
   "cell_type": "code",
   "execution_count": null,
   "metadata": {},
   "outputs": [],
   "source": [
    "df.shape"
   ]
  },
  {
   "cell_type": "code",
   "execution_count": null,
   "metadata": {},
   "outputs": [],
   "source": [
    "cols=pd.Series(df.columns)\n",
    "for dup in cols[cols.duplicated()].unique():\n",
    "    cols[cols[cols == dup].index.values.tolist()] = [dup + '.' + str(i) if i != 0 else dup for i in range(sum(cols == dup))]\n",
    "\n",
    "df.columns = cols"
   ]
  },
  {
   "cell_type": "markdown",
   "metadata": {},
   "source": [
    "# Data cleaning and processing"
   ]
  },
  {
   "cell_type": "code",
   "execution_count": null,
   "metadata": {},
   "outputs": [],
   "source": [
    "############################################################################################\n",
    "# Experimental code here. Trying to replace Known values which means NULL / NA to np.nan\n",
    "# Ideally this should help our analysis.\n",
    "############################################################################################\n",
    "for x in [x for x in df.columns if df[x].dtype.kind.lower() in ('o', 's', 'u', 'v')]:\n",
    "    if len(df[df[x].isin(KNOWN_NA_VALS)]) > 0: #some instances were found with Known NA substitutions\n",
    "        df.loc[ df[x].isin(KNOWN_NA_VALS), x ] = np.nan\n",
    "        print(\"Found some known NA substitutions in {}. Will replace and try to force as numeric\".format(x))\n",
    "    try: #now we will try to see if the column can become numeric\n",
    "            df[x] = pd.to_numeric(df[x], errors='raise')\n",
    "            #print(\"this {} kpi has been converted\".format(x))\n",
    "    except ValueError as e:\n",
    "        continue #Column cannot be converted to numeric. Just continue\n",
    "############################################################################################\n",
    "\n",
    "############################################################################################\n",
    "# Experiment 2: If all endings are % or $ or # then we will try to strip these and check if \n",
    "#     the column can be converted as a numeric value\n",
    "############################################################################################\n",
    "sp_endings = ['%', '$', '#', '£', 'QAR', 'GBP', 'qar', 'gbp', 'usd', 'USD' ,'eur', 'EUR']\n",
    "\n",
    "for x in [x for x in df.columns if df[x].dtype.kind.lower() in ('o', 's', 'u', 'v')]:\n",
    "    for sp in sp_endings:\n",
    "        totals = df[x].astype(str).str.endswith(sp).sum() + df[x].isna().sum()\n",
    "        if totals == len(df): #Either all entries end with special char or are null\n",
    "            temp = df[x].astype(str).str.replace(sp, '')\n",
    "            try:\n",
    "                temp_numeric = pd.to_numeric(temp, errors='raise')\n",
    "                df[x] = temp_numeric #if we were able to convert to numeric then we keep this\n",
    "                                    # in our dataframe. else no change\n",
    "                print(\"Modified column {} for special endings {} and changed to numeric\".format(\n",
    "                        x, sp))\n",
    "            except ValueError as ve:\n",
    "                continue\n",
    "############################################################################################\n",
    "# Same code as above but for string beginnings\n",
    "\n",
    "for x in [x for x in df.columns if df[x].dtype.kind.lower() in ('o', 's', 'u', 'v')]:\n",
    "    for sp in sp_endings:\n",
    "        totals = df[x].astype(str).str.startswith(sp).sum() + df[x].isna().sum()\n",
    "        if totals == len(df): #Either all entries end with special char or are null\n",
    "            temp = df[x].astype(str).str.replace(sp, '')\n",
    "            try:\n",
    "                temp_numeric = pd.to_numeric(temp, errors='raise')\n",
    "                df[x] = temp_numeric #if we were able to convert to numeric then we keep this\n",
    "                                    # in our dataframe. else no change\n",
    "                print(\"Modified column {} for special startings {} and changed to numeric\".format(\n",
    "                        x, sp))\n",
    "            except ValueError as ve:\n",
    "                continue\n",
    "############################################################################################\n",
    "# Now we have to deal with NA values\n",
    "if REMOVE_NA == True:\n",
    "    df = df.dropna(axis=0, how='all')\n",
    "else:\n",
    "    for x in [x for x in df.columns]:\n",
    "        if df[x].dtype.kind in ('f', 'c', 'i', 'u'):\n",
    "            df[x].fillna(df[x].median(),inplace=True)\n",
    "    df = df.fillna(method='ffill')\n",
    "    df = df.fillna(method='bfill')\n",
    "############################################################################################\n",
    "\n",
    "    \n",
    "############################################################################################    \n",
    "# WARNING - DONT REMOVE BELOW WITHOUT UNDERSTANDING OF THE CODE BIT\n",
    "# This step is mandatory. We will delete any column if it is Completely np.nan\n",
    "a = df.isna().sum(axis=0)\n",
    "FULL_NA_COLS = [x for x in a[df.isna().sum(axis=0) == len(df)].index]\n",
    "df = df.drop(FULL_NA_COLS, axis=1)"
   ]
  },
  {
   "cell_type": "code",
   "execution_count": null,
   "metadata": {},
   "outputs": [],
   "source": [
    "df.head()"
   ]
  },
  {
   "cell_type": "code",
   "execution_count": null,
   "metadata": {},
   "outputs": [],
   "source": [
    "df.shape"
   ]
  },
  {
   "cell_type": "code",
   "execution_count": null,
   "metadata": {},
   "outputs": [],
   "source": [
    "df.head()"
   ]
  },
  {
   "cell_type": "code",
   "execution_count": null,
   "metadata": {},
   "outputs": [],
   "source": [
    "df1=df.copy(deep=True)"
   ]
  },
  {
   "cell_type": "code",
   "execution_count": null,
   "metadata": {},
   "outputs": [],
   "source": [
    "df1.head()"
   ]
  },
  {
   "cell_type": "code",
   "execution_count": null,
   "metadata": {},
   "outputs": [],
   "source": [
    "kpis_chng = []\n",
    "for y in [y for y in df1.columns if df1[y].dtype.kind.lower() not in ('o', 's', 'u', 'v','m')]:\n",
    "    df2 = df1[y]\n",
    "    df3 = df1[y]\n",
    "    algo = rpt.Pelt(model=\"rbf\").fit(df2.values)\n",
    "    result = algo.predict(pen=penalty)\n",
    "    if len(result)>1:\n",
    "        for i in np.arange(0,len(df3)):\n",
    "            df3.iloc[i] -= df3.values.min()\n",
    "            if (df3.values.max()-df3.values.min()) > 0:\n",
    "                df3.iloc[i] /= (df3.values.max()-df3.values.min())\n",
    "            else:\n",
    "                df3.iloc[i] = 0\n",
    "        \n",
    "        cutoff_low=np.nanmean(df3.values) - (3*np.nanstd(df3.values))\n",
    "        cutoff_high = np.nanmean(df3.values) + (3*np.nanstd(df3.values))\n",
    "        \n",
    "        slope = linregress(range(len(df3.values)), df3.values).slope\n",
    "        \n",
    "        post = np.nanmean(df3[result[0]:result[-1]])\n",
    "        pre  = np.nanmean(df3[0:result[0]][df3[0:result[0]]<=cutoff_high][df3[0:result[0]]>=cutoff_low])\n",
    "        \n",
    "            \n",
    "        chg_perc= (post - pre)/(pre + 0.0000000000001)\n",
    "        if abs(chg_perc)>=chg_thd:\n",
    "            kpis_chng.append(str(y)+\"___\"+str(abs(chg_perc))+\"___\"+str(abs(slope))+\"___\"+str(result[0])+\"___\"+str(len(result)))"
   ]
  },
  {
   "cell_type": "code",
   "execution_count": null,
   "metadata": {},
   "outputs": [],
   "source": [
    "df_kpi_chng = pd.DataFrame (kpis_chng, columns = ['kpi_chg'])"
   ]
  },
  {
   "cell_type": "code",
   "execution_count": null,
   "metadata": {},
   "outputs": [],
   "source": [
    "df_kpi_c=df_kpi_chng['kpi_chg'].str.split('___', expand=True)"
   ]
  },
  {
   "cell_type": "code",
   "execution_count": null,
   "metadata": {},
   "outputs": [],
   "source": [
    "df_kpi_c.sort_values(by=[3,4,2,1],inplace=True,ascending=False)"
   ]
  },
  {
   "cell_type": "code",
   "execution_count": null,
   "metadata": {},
   "outputs": [],
   "source": [
    "kpis_changed = df_kpi_c[0].tolist()"
   ]
  },
  {
   "cell_type": "code",
   "execution_count": null,
   "metadata": {},
   "outputs": [],
   "source": [
    "len(kpis_changed)"
   ]
  },
  {
   "cell_type": "code",
   "execution_count": null,
   "metadata": {},
   "outputs": [],
   "source": [
    "for i in np.arange(0,len(kpis_changed)):\n",
    "    plt.figure(figsize = (10, 5))\n",
    "    algo = rpt.Pelt(model=\"rbf\").fit(df[kpis_changed[i]].values)\n",
    "    result = algo.predict(pen=penalty)\n",
    "    a=rpt.display(df[kpis_changed[i]].values, result)\n",
    "    plt.title(str(df[kpis_changed[i]].head(0)))\n",
    "    plt.xticks(np.arange(0,len(df[kpis_changed[i]].values)),df[date],rotation='vertical')\n",
    "    print(df[kpis_changed[i]].head(0))\n",
    "    plt.show()"
   ]
  }
 ],
 "metadata": {
  "kernelspec": {
   "display_name": "Python 3 (ipykernel)",
   "language": "python",
   "name": "python3"
  },
  "language_info": {
   "codemirror_mode": {
    "name": "ipython",
    "version": 3
   },
   "file_extension": ".py",
   "mimetype": "text/x-python",
   "name": "python",
   "nbconvert_exporter": "python",
   "pygments_lexer": "ipython3",
   "version": "3.9.13"
  }
 },
 "nbformat": 4,
 "nbformat_minor": 4
}
